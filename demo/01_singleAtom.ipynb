{
 "cells": [
  {
   "cell_type": "code",
   "execution_count": 1,
   "metadata": {},
   "outputs": [],
   "source": [
    "\"\"\"\n",
    "Copyright (C) 2022 Dominik Lentrodt\n",
    "\n",
    "This file is part of pyrot.\n",
    "\n",
    "pyrot is free software: you can redistribute it and/or modify\n",
    "it under the terms of the GNU General Public License as published by\n",
    "the Free Software Foundation, either version 3 of the License, or\n",
    "(at your option) any later version.\n",
    "\n",
    "pyrot is distributed in the hope that it will be useful,\n",
    "but WITHOUT ANY WARRANTY; without even the implied warranty of\n",
    "MERCHANTABILITY or FITNESS FOR A PARTICULAR PURPOSE.  See the\n",
    "GNU General Public License for more details.\n",
    "\n",
    "You should have received a copy of the GNU General Public License\n",
    "along with pyrot.  If not, see <http://www.gnu.org/licenses/>.\n",
    "\"\"\"\n",
    "\n",
    "%matplotlib inline"
   ]
  },
  {
   "cell_type": "markdown",
   "metadata": {},
   "source": [
    "### Import packages"
   ]
  },
  {
   "cell_type": "code",
   "execution_count": 2,
   "metadata": {},
   "outputs": [],
   "source": [
    "# for calculations\n",
    "import numpy as np\n",
    "import scipy as sp\n",
    "from scipy.signal import argrelextrema\n",
    "\n",
    "# for plotting\n",
    "import matplotlib\n",
    "import matplotlib.pylab as plt"
   ]
  },
  {
   "cell_type": "code",
   "execution_count": 3,
   "metadata": {},
   "outputs": [],
   "source": [
    "### for development ###\n",
    "# import os\n",
    "# import sys\n",
    "# module_path = os.path.abspath(os.path.join('../src'))\n",
    "# if module_path not in sys.path:\n",
    "#     sys.path.append(module_path)\n",
    "\n",
    "# import pyrot"
   ]
  },
  {
   "cell_type": "code",
   "execution_count": 4,
   "metadata": {},
   "outputs": [
    {
     "ename": "ModuleNotFoundError",
     "evalue": "No module named 'pyrot'",
     "output_type": "error",
     "traceback": [
      "\u001b[0;31m---------------------------------------------------------------------------\u001b[0m",
      "\u001b[0;31mModuleNotFoundError\u001b[0m                       Traceback (most recent call last)",
      "Input \u001b[0;32mIn [4]\u001b[0m, in \u001b[0;36m<cell line: 2>\u001b[0;34m()\u001b[0m\n\u001b[1;32m      1\u001b[0m \u001b[38;5;66;03m### if using installed distribution ###\u001b[39;00m\n\u001b[0;32m----> 2\u001b[0m \u001b[38;5;28;01mimport\u001b[39;00m \u001b[38;5;21;01mpyrot\u001b[39;00m\n",
      "\u001b[0;31mModuleNotFoundError\u001b[0m: No module named 'pyrot'"
     ]
    }
   ],
   "source": [
    "### if using installed distribution ###\n",
    "import pyrot"
   ]
  },
  {
   "cell_type": "markdown",
   "metadata": {},
   "source": [
    "### Example system calculation\n",
    "\n",
    "Define system"
   ]
  },
  {
   "cell_type": "code",
   "execution_count": null,
   "metadata": {},
   "outputs": [],
   "source": [
    "tThin = 0.01 #thin layer\n",
    "N = [1.0,    4.0, 1.0,  4.0, 1.0] # Refractive index of each layer\n",
    "T = [ -1, tThin, 1.0, tThin,  -1] # Thicknesses of each layer\n",
    "\n",
    "omega = np.linspace(0.001, 15., 200000) # incident frequency / wavenumber\n",
    "\n",
    "### atom parameters ###\n",
    "atom_pos   =   0.51 # Position of the atom (measured relative to left cavity surface)\n",
    "atom_dpol  =   0.05 # dipole moment\n",
    "atom_om    =   4.35 # transition energy\n",
    "atom_gamma =   0.00  # spontaneous decay rate into non-radiative channels\n",
    "\n",
    "atoms_params = [[atom_pos, atom_dpol, atom_om, atom_gamma],]"
   ]
  },
  {
   "cell_type": "code",
   "execution_count": null,
   "metadata": {},
   "outputs": [],
   "source": [
    "cavity = pyrot.Cavity1d(N, T)\n",
    "atom   = pyrot.CavityAtoms1d(N, T, atoms_params)"
   ]
  },
  {
   "cell_type": "markdown",
   "metadata": {},
   "source": [
    "Calculate **empty cavity** scattering"
   ]
  },
  {
   "cell_type": "code",
   "execution_count": null,
   "metadata": {},
   "outputs": [],
   "source": [
    "%%time\n",
    "R_empty = cavity.reflection_intensity(omega)\n",
    "T_empty = cavity.transmission_intensity(omega)"
   ]
  },
  {
   "cell_type": "markdown",
   "metadata": {},
   "source": [
    "Calculate reflection minimum"
   ]
  },
  {
   "cell_type": "code",
   "execution_count": null,
   "metadata": {},
   "outputs": [],
   "source": [
    "max_inds = argrelextrema(R_empty, np.less)\n",
    "ref_min = omega[max_inds[0][1]]+0.000001 # small number to avoid divide by zeroes\n",
    "print(ref_min)"
   ]
  },
  {
   "cell_type": "markdown",
   "metadata": {},
   "source": [
    "Calculate cavity scattering **with atom**"
   ]
  },
  {
   "cell_type": "code",
   "execution_count": null,
   "metadata": {},
   "outputs": [],
   "source": [
    "%%time\n",
    "R_atom = atom.linear_reflection_intensity(omega)\n",
    "T_atom = atom.linear_transmission_intensity(omega)"
   ]
  },
  {
   "cell_type": "markdown",
   "metadata": {},
   "source": [
    "Print linear refractive index with atom delta approximated as thin layer"
   ]
  },
  {
   "cell_type": "code",
   "execution_count": null,
   "metadata": {},
   "outputs": [],
   "source": [
    "n_int, t_int = atom.linear_layer_system_with_atom(omega)\n",
    "print(n_int)\n",
    "print(t_int)"
   ]
  },
  {
   "cell_type": "markdown",
   "metadata": {},
   "source": [
    "### Plot"
   ]
  },
  {
   "cell_type": "code",
   "execution_count": null,
   "metadata": {},
   "outputs": [],
   "source": [
    "t_tot = np.sum(T[1:-1])\n",
    "outside_buffer = 0.2\n",
    "depth = np.linspace(-outside_buffer, t_tot+outside_buffer, 10000)\n",
    "\n",
    "#cavity.draw_cav(depth)\n",
    "atom.draw_cav(depth)"
   ]
  },
  {
   "cell_type": "code",
   "execution_count": null,
   "metadata": {},
   "outputs": [],
   "source": [
    "### reflection ###\n",
    "plt.figure(figsize=(6*2,4))\n",
    "\n",
    "plt.subplot(121, xlabel='Incident frequency [arb. units]', ylabel='Reflectance',\n",
    "            title='Reflectance of example cavity')\n",
    "plt.plot(omega, R_atom, label='with atom')\n",
    "plt.plot(omega, R_empty, '--', label='empty cavity')\n",
    "plt.axvline(atom_om, color='k', dashes=[3,3], lw=1.0, label='atom transition frequency')\n",
    "plt.legend(loc=1, fontsize=8)\n",
    "\n",
    "plt.subplot(122, xlabel='Incident frequency [arb. units]', ylabel='Reflectance',\n",
    "            title='Reflectance of example cavity (zoom around atom frequency)')\n",
    "plt.plot(omega, R_atom, label='with atom')\n",
    "plt.plot(omega, R_empty, '--', label='empty cavity')\n",
    "plt.axvline(atom_om, color='k', dashes=[3,3], lw=1.0, label='atom transition frequency')\n",
    "\n",
    "zoom_dif = 0.05\n",
    "plt.xlim([atom_om-zoom_dif, atom_om+zoom_dif])\n",
    "plt.legend(loc=1, fontsize=8)\n",
    "\n",
    "plt.show()\n",
    "\n",
    "### transmission ###\n",
    "plt.figure(figsize=(6*2,4))\n",
    "\n",
    "plt.subplot(121, xlabel='Incident frequency [arb. units]', ylabel='Transmittance',\n",
    "            title='Transmittance of cavity')\n",
    "plt.plot(omega, T_atom, label='with atom')\n",
    "plt.plot(omega, T_empty, '--', label='empty cavity')\n",
    "plt.axvline(atom_om, color='k', dashes=[3,3], lw=1.0, label='atom transition frequency')\n",
    "plt.legend(loc=4, fontsize=8)\n",
    "\n",
    "plt.subplot(122, xlabel='Incident frequency [arb. units]', ylabel='Transmittance',\n",
    "            title='Transmittance of cavity (zoom around atom frequency)')\n",
    "plt.plot(omega, T_atom, label='with atom')\n",
    "plt.plot(omega, T_empty, '--', label='empty cavity')\n",
    "plt.axvline(atom_om, color='k', dashes=[3,3], lw=1.0, label='atom transition frequency')\n",
    "\n",
    "zoom_dif = 0.05\n",
    "plt.xlim([atom_om-zoom_dif, atom_om+zoom_dif])\n",
    "plt.legend(loc=4, fontsize=8)\n",
    "\n",
    "plt.show()"
   ]
  },
  {
   "cell_type": "code",
   "execution_count": null,
   "metadata": {},
   "outputs": [],
   "source": []
  },
  {
   "cell_type": "code",
   "execution_count": null,
   "metadata": {},
   "outputs": [],
   "source": []
  },
  {
   "cell_type": "code",
   "execution_count": null,
   "metadata": {},
   "outputs": [],
   "source": []
  }
 ],
 "metadata": {
  "kernelspec": {
   "display_name": "Python 3 (ipykernel)",
   "language": "python",
   "name": "python3"
  },
  "language_info": {
   "codemirror_mode": {
    "name": "ipython",
    "version": 3
   },
   "file_extension": ".py",
   "mimetype": "text/x-python",
   "name": "python",
   "nbconvert_exporter": "python",
   "pygments_lexer": "ipython3",
   "version": "3.8.9"
  }
 },
 "nbformat": 4,
 "nbformat_minor": 2
}
