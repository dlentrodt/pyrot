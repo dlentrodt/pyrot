{
 "cells": [
  {
   "cell_type": "code",
   "execution_count": 1,
   "metadata": {},
   "outputs": [],
   "source": [
    "\"\"\"\n",
    "Copyright (C) 2022 Dominik Lentrodt\n",
    "\n",
    "This file is part of pyrot.\n",
    "\n",
    "pyrot is free software: you can redistribute it and/or modify\n",
    "it under the terms of the GNU General Public License as published by\n",
    "the Free Software Foundation, either version 3 of the License, or\n",
    "(at your option) any later version.\n",
    "\n",
    "pyrot is distributed in the hope that it will be useful,\n",
    "but WITHOUT ANY WARRANTY; without even the implied warranty of\n",
    "MERCHANTABILITY or FITNESS FOR A PARTICULAR PURPOSE.  See the\n",
    "GNU General Public License for more details.\n",
    "\n",
    "You should have received a copy of the GNU General Public License\n",
    "along with pyrot.  If not, see <http://www.gnu.org/licenses/>.\n",
    "\"\"\"\n",
    "\n",
    "%matplotlib inline"
   ]
  },
  {
   "cell_type": "markdown",
   "metadata": {},
   "source": [
    "### Import packages"
   ]
  },
  {
   "cell_type": "code",
   "execution_count": 2,
   "metadata": {},
   "outputs": [],
   "source": [
    "# for calculations\n",
    "import numpy as np\n",
    "import scipy as sp\n",
    "from scipy.signal import argrelextrema\n",
    "\n",
    "# for plotting\n",
    "import matplotlib\n",
    "import matplotlib.pylab as plt"
   ]
  },
  {
   "cell_type": "code",
   "execution_count": 3,
   "metadata": {},
   "outputs": [
    {
     "ename": "ImportError",
     "evalue": "attempted relative import with no known parent package",
     "output_type": "error",
     "traceback": [
      "\u001b[0;31m---------------------------------------------------------------------------\u001b[0m",
      "\u001b[0;31mImportError\u001b[0m                               Traceback (most recent call last)",
      "Input \u001b[0;32mIn [3]\u001b[0m, in \u001b[0;36m<cell line: 8>\u001b[0;34m()\u001b[0m\n\u001b[1;32m      5\u001b[0m \u001b[38;5;28;01mif\u001b[39;00m module_path \u001b[38;5;129;01mnot\u001b[39;00m \u001b[38;5;129;01min\u001b[39;00m sys\u001b[38;5;241m.\u001b[39mpath:\n\u001b[1;32m      6\u001b[0m     sys\u001b[38;5;241m.\u001b[39mpath\u001b[38;5;241m.\u001b[39mappend(module_path)\n\u001b[0;32m----> 8\u001b[0m \u001b[38;5;28;01mimport\u001b[39;00m \u001b[38;5;21;01mcavity1d\u001b[39;00m \u001b[38;5;28;01mas\u001b[39;00m \u001b[38;5;21;01mpyrot\u001b[39;00m\n",
      "File \u001b[0;32m~/Nextcloud/Software/dev/pyrot/pyrot/cavity1d.py:32\u001b[0m, in \u001b[0;36m<module>\u001b[0;34m\u001b[0m\n\u001b[1;32m     29\u001b[0m \u001b[38;5;28;01mimport\u001b[39;00m \u001b[38;5;21;01mmatplotlib\u001b[39;00m\n\u001b[1;32m     30\u001b[0m \u001b[38;5;28;01mimport\u001b[39;00m \u001b[38;5;21;01mmatplotlib\u001b[39;00m\u001b[38;5;21;01m.\u001b[39;00m\u001b[38;5;21;01mpylab\u001b[39;00m \u001b[38;5;28;01mas\u001b[39;00m \u001b[38;5;21;01mplt\u001b[39;00m\n\u001b[0;32m---> 32\u001b[0m \u001b[38;5;28;01mfrom\u001b[39;00m \u001b[38;5;21;01m.\u001b[39;00m\u001b[38;5;21;01m_tools\u001b[39;00m \u001b[38;5;28;01mimport\u001b[39;00m \u001b[38;5;241m*\u001b[39m\n\u001b[1;32m     34\u001b[0m \u001b[38;5;66;03m################################################################################\u001b[39;00m\n\u001b[1;32m     35\u001b[0m \n\u001b[1;32m     36\u001b[0m \u001b[38;5;66;03m### main classes ###\u001b[39;00m\n\u001b[1;32m     38\u001b[0m \u001b[38;5;28;01mclass\u001b[39;00m \u001b[38;5;21;01mCavity1d\u001b[39;00m():\n",
      "\u001b[0;31mImportError\u001b[0m: attempted relative import with no known parent package"
     ]
    }
   ],
   "source": [
    "### for development ###\n",
    "import os\n",
    "import sys\n",
    "module_path = os.path.abspath(os.path.join('..'))\n",
    "if module_path not in sys.path:\n",
    "    sys.path.append(module_path)\n",
    "\n",
    "import pyrot"
   ]
  },
  {
   "cell_type": "code",
   "execution_count": null,
   "metadata": {},
   "outputs": [],
   "source": [
    "# ### if using installed distribution ###\n",
    "# import pyrot"
   ]
  },
  {
   "cell_type": "markdown",
   "metadata": {},
   "source": [
    "### Example system calculation\n",
    "\n",
    "Define system"
   ]
  },
  {
   "cell_type": "code",
   "execution_count": null,
   "metadata": {},
   "outputs": [],
   "source": [
    "tThin = 0.01 #thin layer\n",
    "N = [1.0,   10.0, 1.0,   10.0, 1.0] # Refractive index of each layer\n",
    "T = [ -1, tThin, 1.0, tThin,  -1] # Thicknesses of each layer\n",
    "\n",
    "k = np.linspace(0.001, 15., 200000) # incident frequency / wavenumber"
   ]
  },
  {
   "cell_type": "code",
   "execution_count": null,
   "metadata": {},
   "outputs": [],
   "source": [
    "### atom parameters ###\n",
    "atom_om  = 3.623\n",
    "atom_om2 = 6.536\n",
    "atom_om3 = 9.564\n",
    "atoms_params = [[0.61, 0.01, atom_om,  0.0],\n",
    "                #[0.61, 0.01, atom_om2, 0.0],\n",
    "                [0.61, 0.01, atom_om3, 0.0],\n",
    "               ]"
   ]
  },
  {
   "cell_type": "code",
   "execution_count": null,
   "metadata": {},
   "outputs": [],
   "source": [
    "cavity = pyrot.Cavity1d(N, T)\n",
    "atoms  = pyrot.CavityAtoms1d(N, T, atoms_params)"
   ]
  },
  {
   "cell_type": "markdown",
   "metadata": {},
   "source": [
    "Calculate **empty cavity** scattering"
   ]
  },
  {
   "cell_type": "code",
   "execution_count": null,
   "metadata": {},
   "outputs": [],
   "source": [
    "%%time\n",
    "R_empty = cavity.reflection_intensity(k)\n",
    "T_empty = cavity.transmission_intensity(k)"
   ]
  },
  {
   "cell_type": "markdown",
   "metadata": {},
   "source": [
    "Calculate reflection minimum"
   ]
  },
  {
   "cell_type": "code",
   "execution_count": null,
   "metadata": {},
   "outputs": [],
   "source": [
    "max_inds = argrelextrema(R_empty, np.less)\n",
    "ref_min  = k[max_inds[0][1]]+0.000001 # small number to avoid divide by zeroes\n",
    "ref_min2 = k[max_inds[0][2]]+0.000001 # small number to avoid divide by zeroes\n",
    "ref_min3 = k[max_inds[0][3]]+0.000001 # small number to avoid divide by zeroess\n",
    "print(ref_min)\n",
    "print(ref_min2)\n",
    "print(ref_min3)"
   ]
  },
  {
   "cell_type": "markdown",
   "metadata": {},
   "source": [
    "Calculate cavity scattering **with atom**"
   ]
  },
  {
   "cell_type": "code",
   "execution_count": null,
   "metadata": {},
   "outputs": [],
   "source": [
    "%%time\n",
    "R_atoms = atoms.linear_reflection_intensity(k)\n",
    "print(\"###\")\n",
    "T_atoms = atoms.linear_transmission_intensity(k)"
   ]
  },
  {
   "cell_type": "markdown",
   "metadata": {},
   "source": [
    "Print linear refractive index with atom delta approximated as thin layer"
   ]
  },
  {
   "cell_type": "code",
   "execution_count": null,
   "metadata": {},
   "outputs": [],
   "source": [
    "n_int, t_int = atoms.linear_layer_system_with_atom(k)\n",
    "print(n_int)\n",
    "print(t_int)"
   ]
  },
  {
   "cell_type": "markdown",
   "metadata": {},
   "source": [
    "### Plot"
   ]
  },
  {
   "cell_type": "code",
   "execution_count": null,
   "metadata": {},
   "outputs": [],
   "source": [
    "t_tot = np.sum(T[1:-1])\n",
    "outside_buffer = 0.2\n",
    "depth = np.linspace(-outside_buffer, t_tot+outside_buffer, 10000)\n",
    "\n",
    "#cavity.draw_cav(depth)\n",
    "atoms.draw_cav(depth)"
   ]
  },
  {
   "cell_type": "code",
   "execution_count": null,
   "metadata": {},
   "outputs": [],
   "source": [
    "### plot meta params ###\n",
    "resonant_layer_idx = 3\n",
    "\n",
    "zoom_dif  = 0.05\n",
    "zoom_dif2 = 0.05\n",
    "\n",
    "zoom_dif_ref  = 0.002\n",
    "zoom_dif2_ref = 0.002\n",
    "ylim_ref = [-0.5e5, 0.5e5]"
   ]
  },
  {
   "cell_type": "code",
   "execution_count": null,
   "metadata": {},
   "outputs": [],
   "source": [
    "### reflection ###\n",
    "plt.figure(figsize=(6*3,4))\n",
    "\n",
    "plt.subplot(131, xlabel='Incident frequency [arb. units]', ylabel='Reflectance',\n",
    "            title='Reflectance of cavity')\n",
    "plt.plot(k, R_atoms, label='with atom')\n",
    "plt.plot(k, R_empty, '--', label='empty cavity')\n",
    "plt.axvline(atom_om, color='k', dashes=[3,3], lw=1.0, label='atom transition frequency')\n",
    "plt.axvline(atom_om3, color='gray', dashes=[3,3], lw=1.0, label='atom transition frequency 2')\n",
    "plt.legend(loc=1, fontsize=8)\n",
    "\n",
    "plt.subplot(132, xlabel='Incident frequency [arb. units]', ylabel='Reflectance',\n",
    "            title='Reflectance of cavity (zoom around atom frequency)')\n",
    "plt.plot(k, R_atoms, label='with atom')\n",
    "plt.plot(k, R_empty, '--', label='empty cavity')\n",
    "plt.axvline(atom_om, color='k', dashes=[3,3], lw=1.0, label='atom transition frequency')\n",
    "\n",
    "plt.xlim([atom_om-zoom_dif, atom_om+zoom_dif])\n",
    "plt.legend(loc=1, fontsize=8)\n",
    "\n",
    "plt.subplot(133, xlabel='Incident frequency [arb. units]', ylabel='Reflectance',\n",
    "            title='Reflectance of cavity (zoom around atom frequency 2)')\n",
    "plt.plot(k, R_atoms, label='with atom')\n",
    "plt.plot(k, R_empty, '--', label='empty cavity')\n",
    "plt.axvline(atom_om3, color='gray', dashes=[3,3], lw=1.0, label='atom transition frequency 2')\n",
    "\n",
    "plt.xlim([atom_om3-zoom_dif2, atom_om3+zoom_dif2])\n",
    "plt.legend(loc=1, fontsize=8)\n",
    "\n",
    "plt.show()\n",
    "\n",
    "### transmission ###\n",
    "plt.figure(figsize=(6*3,4))\n",
    "\n",
    "plt.subplot(131, xlabel='Incident frequency [arb. units]', ylabel='Transmittance',\n",
    "            title='Transmittance of cavity')\n",
    "plt.plot(k, T_atoms, label='with atom')\n",
    "plt.plot(k, T_empty, '--', label='empty cavity')\n",
    "plt.axvline(atom_om, color='k', dashes=[3,3], lw=1.0, label='atom transition frequency')\n",
    "plt.axvline(atom_om3, color='k', dashes=[3,3], lw=1.0, label='atom transition frequency 2')\n",
    "#plt.legend(loc=4, fontsize=8)\n",
    "\n",
    "plt.subplot(132, xlabel='Incident frequency [arb. units]', ylabel='Transmittance',\n",
    "            title='Transmittance of cavity (zoom around atom frequency)')\n",
    "plt.plot(k, T_atoms, label='with atom')\n",
    "plt.plot(k, T_empty, '--', label='empty cavity')\n",
    "plt.axvline(atom_om, color='k', dashes=[3,3], lw=1.0, label='atom transition frequency')\n",
    "\n",
    "plt.xlim([atom_om-zoom_dif, atom_om+zoom_dif])\n",
    "#plt.legend(loc=4, fontsize=8)\n",
    "\n",
    "plt.subplot(133, xlabel='Incident frequency [arb. units]', ylabel='Transmittance',\n",
    "            title='Transmittance of cavity (zoom around atom frequency 2)')\n",
    "plt.plot(k, T_atoms, label='with atom')\n",
    "plt.plot(k, T_empty, '--', label='empty cavity')\n",
    "plt.axvline(atom_om3, color='k', dashes=[3,3], lw=1.0, label='atom transition frequency 2')\n",
    "\n",
    "plt.xlim([atom_om3-zoom_dif2, atom_om3+zoom_dif2])\n",
    "#plt.legend(loc=4, fontsize=8)\n",
    "\n",
    "plt.show()"
   ]
  },
  {
   "cell_type": "code",
   "execution_count": null,
   "metadata": {},
   "outputs": [],
   "source": [
    "### linear refractive index of atom layer\n",
    "### Note that without an intrinsic gamma, this curve does not have a Lorentzian width!\n",
    "plt.figure(figsize=(6*3,4))\n",
    "\n",
    "plt.subplot(131, xlabel='Incident frequency [arb. units]', ylabel='n',\n",
    "            title='Refractive index of atomic layer')\n",
    "plt.plot(k, np.real(n_int[resonant_layer_idx]), label='Re[n]')\n",
    "plt.plot(k, np.imag(n_int[resonant_layer_idx]), label='Im[n]')\n",
    "plt.plot(k, np.abs(n_int[resonant_layer_idx]), label='Abs[n]')\n",
    "plt.axvline(atom_om, color='k', dashes=[3,3], lw=1.0, label='atom transition frequency')\n",
    "plt.axvline(atom_om3, color='k', dashes=[3,3], lw=1.0, label='atom transition frequency 2')\n",
    "plt.ylim(ylim_ref)\n",
    "\n",
    "#plt.legend(loc=4, fontsize=8)\n",
    "\n",
    "plt.subplot(132, xlabel='Incident frequency [arb. units]', ylabel='n',\n",
    "            title='Refractive index of atomic layer (zoom 1)')\n",
    "plt.plot(k, np.real(n_int[resonant_layer_idx]), label='Re[n]')\n",
    "plt.plot(k, np.imag(n_int[resonant_layer_idx]), label='Im[n]')\n",
    "plt.plot(k, np.abs(n_int[resonant_layer_idx]), label='Abs[n]')\n",
    "plt.axvline(atom_om, color='k', dashes=[3,3], lw=1.0, label='atom transition frequency')\n",
    "plt.ylim(ylim_ref)\n",
    "\n",
    "plt.xlim([atom_om-zoom_dif_ref, atom_om+zoom_dif_ref])\n",
    "#plt.legend(loc=4, fontsize=8)\n",
    "\n",
    "plt.subplot(133, xlabel='Incident frequency [arb. units]', ylabel='n',\n",
    "            title='Refractive index of atomic layer (zoom 2)')\n",
    "plt.plot(k, np.real(n_int[resonant_layer_idx]), label='Re[n]')\n",
    "plt.plot(k, np.imag(n_int[resonant_layer_idx]), label='Im[n]')\n",
    "plt.plot(k, np.abs(n_int[resonant_layer_idx]), label='Abs[n]')\n",
    "plt.axvline(atom_om3, color='k', dashes=[3,3], lw=1.0, label='atom transition frequency 2')\n",
    "plt.ylim(ylim_ref)\n",
    "\n",
    "plt.xlim([atom_om3-zoom_dif2_ref, atom_om3+zoom_dif2_ref])\n",
    "#plt.legend(loc=4, fontsize=8)\n",
    "\n",
    "plt.show()"
   ]
  },
  {
   "cell_type": "code",
   "execution_count": null,
   "metadata": {},
   "outputs": [],
   "source": []
  }
 ],
 "metadata": {
  "kernelspec": {
   "display_name": "Python 3 (ipykernel)",
   "language": "python",
   "name": "python3"
  },
  "language_info": {
   "codemirror_mode": {
    "name": "ipython",
    "version": 3
   },
   "file_extension": ".py",
   "mimetype": "text/x-python",
   "name": "python",
   "nbconvert_exporter": "python",
   "pygments_lexer": "ipython3",
   "version": "3.8.9"
  }
 },
 "nbformat": 4,
 "nbformat_minor": 2
}
